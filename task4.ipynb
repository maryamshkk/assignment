{
 "cells": [
  {
   "cell_type": "code",
   "execution_count": 3,
   "metadata": {},
   "outputs": [
    {
     "name": "stdout",
     "output_type": "stream",
     "text": [
      "Distanvce traveleled by a car is  150.0 km.\n"
     ]
    }
   ],
   "source": [
    "#  a program to calculate the distance traveled by a car moving at a speed of 60 km/h for 2.5 hours.\n",
    "Speed = 60  #km/hr\n",
    "Time = 2.5  #hrs\n",
    "\n",
    "distance = Speed * Time\n",
    "print(\"Distanvce traveleled by a car is \", distance , \"km.\")"
   ]
  },
  {
   "cell_type": "code",
   "execution_count": 5,
   "metadata": {},
   "outputs": [
    {
     "name": "stdout",
     "output_type": "stream",
     "text": [
      "Simple Interest is  150.0\n"
     ]
    }
   ],
   "source": [
    "# a program to calculate the simple interest for a principal amount of $1000, a rate of 5% annually, and a time period of 3 years.\n",
    "Principal_amount = 1000 #$\n",
    "Annual_rate = 5 #%\n",
    "Time_period = 3 #years\n",
    "\n",
    "# Simple Interest\n",
    "Simple_interest = Principal_amount * Annual_rate * Time_period / 100\n",
    "print(\"Simple Interest is $\", Simple_interest)\n"
   ]
  },
  {
   "cell_type": "code",
   "execution_count": 4,
   "metadata": {},
   "outputs": [
    {
     "name": "stdout",
     "output_type": "stream",
     "text": [
      "Your age is: 20 years, 11 months, and 23 days.\n"
     ]
    }
   ],
   "source": [
    "# a program to calculate a person's age in years, months, and days given their birthdate \n",
    "dob = input(\"Enter DateofBirth(DD-MM-YYYY): \")\n",
    "current_day = 6\n",
    "current_month = 2\n",
    "current_year = 2025\n",
    "# Split the input string into day, monhth, and year\n",
    "dob_day, dob_month, dob_year = map(int, dob.split('-'))\n",
    "\n",
    "# Calculate Age\n",
    "age_years = current_year - dob_year\n",
    "age_months = current_month - dob_month\n",
    "age_days = current_day - dob_day\n",
    "\n",
    "# Adjust for negative months and days\n",
    "if age_days < 0:\n",
    "    age_months -= 1\n",
    "    age_days += 30  # Assuming 30 days in the previous month\n",
    "\n",
    "if age_months < 0:\n",
    "    age_years -= 1\n",
    "    age_months += 12\n",
    "\n",
    "# Output the result\n",
    "print(f\"Your age is: {age_years} years, {age_months} months, and {age_days} days.\")"
   ]
  }
 ],
 "metadata": {
  "kernelspec": {
   "display_name": "Python 3",
   "language": "python",
   "name": "python3"
  },
  "language_info": {
   "codemirror_mode": {
    "name": "ipython",
    "version": 3
   },
   "file_extension": ".py",
   "mimetype": "text/x-python",
   "name": "python",
   "nbconvert_exporter": "python",
   "pygments_lexer": "ipython3",
   "version": "3.11.5"
  }
 },
 "nbformat": 4,
 "nbformat_minor": 2
}
