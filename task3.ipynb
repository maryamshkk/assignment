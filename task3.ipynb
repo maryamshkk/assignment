{
 "cells": [
  {
   "cell_type": "code",
   "execution_count": 2,
   "metadata": {},
   "outputs": [
    {
     "name": "stdout",
     "output_type": "stream",
     "text": [
      "3\n",
      "2\n"
     ]
    }
   ],
   "source": [
    "#  a program to swap the values of two variables\n",
    "\n",
    "a=2\n",
    "b=3\n",
    "print(\"Before swapping: a=\",a\"b=\",b)\n",
    "\n",
    "temp=a\n",
    "a=b\n",
    "b=temp\n",
    "print(a)\n",
    "print(b)"
   ]
  },
  {
   "cell_type": "code",
   "execution_count": 3,
   "metadata": {},
   "outputs": [
    {
     "name": "stdout",
     "output_type": "stream",
     "text": [
      "Temperature in celsius 0\n",
      "Temperature after conversion -32.0\n"
     ]
    }
   ],
   "source": [
    "#  a program to convert temperature from Celsius to Fahrenheit and vice versa.\n",
    "Celsius = 0\n",
    "print(\"Temperature in celsius\",Celsius)\n",
    "# After conversion in fahrenheit\n",
    "Fahrenheit = (Celsius * 9/5) - 32\n",
    "print(\"Temperature after conversion\", Fahrenheit)"
   ]
  },
  {
   "cell_type": "code",
   "execution_count": null,
   "metadata": {},
   "outputs": [],
   "source": [
    "#  a program to convert temperature from Celsius to Fahrenheit and vice versa.\n",
    "Fahrenheit = 32\n",
    "print(\"Temperature in celsius\",Celsius)\n",
    "# After conversion in fahrenheit\n",
    " Celsius =( Fahrenheit - 32) * 5/9\n",
    "print(\"Temperature after conversion\", Fahrenheit)"
   ]
  },
  {
   "cell_type": "code",
   "execution_count": 13,
   "metadata": {},
   "outputs": [
    {
     "name": "stdout",
     "output_type": "stream",
     "text": [
      "10 20 30\n",
      "Before swapping values\n",
      "X=  3 Y=  4 Z=  5\n",
      "After swapping values\n",
      "X=  4 Y=  5 Z=  3\n"
     ]
    }
   ],
   "source": [
    "#  Assign the values 10, 20, and 30 to variables p, q, and r in a single line.\n",
    "p,q,r = 10,20,30\n",
    "print(\"p= \", p ,\"q= \", q ,\"r= \",r)\n",
    "\n",
    "# Swap the values of three variables\n",
    "x, y, z= 3, 4, 5 \n",
    "\n",
    "print(\"Before swapping values\")\n",
    "print(\"X= \", x ,\"Y= \", y ,\"Z= \",z)\n",
    "\n",
    "x ,y, z = y, z, x\n",
    "print(\"After swapping values\")\n",
    "print(\"X= \",x, \"Y= \",y, \"Z= \",z)\n",
    "\n"
   ]
  }
 ],
 "metadata": {
  "kernelspec": {
   "display_name": "Python 3",
   "language": "python",
   "name": "python3"
  },
  "language_info": {
   "codemirror_mode": {
    "name": "ipython",
    "version": 3
   },
   "file_extension": ".py",
   "mimetype": "text/x-python",
   "name": "python",
   "nbconvert_exporter": "python",
   "pygments_lexer": "ipython3",
   "version": "3.11.5"
  }
 },
 "nbformat": 4,
 "nbformat_minor": 2
}
